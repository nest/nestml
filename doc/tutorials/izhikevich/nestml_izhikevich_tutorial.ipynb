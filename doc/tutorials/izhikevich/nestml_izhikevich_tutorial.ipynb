{
 "cells": [
  {
   "cell_type": "markdown",
   "metadata": {},
   "source": [
    "# NESTML Izhikevich tutorial\n",
    "\n",
    "Introduction\n",
    "------------\n",
    "\n",
    "The aim of this exercise is to obtain familiarity with NESTML by completing a partial model of the Izhikevich neuron [1].\n",
    "\n",
    "\n",
    "Prerequisites\n",
    "-------------\n",
    "\n",
    "You need to have a working NEST Simulator and NESTML installation, see [Installing NESTML](https://nestml.readthedocs.io/en/latest/installation.html).\n",
    "\n",
    "You need to be able to run NESTML to generate and build model code. NESTML can be used from the command line, and via a Python API. The latter will be used in this notebook. See [Running NESTML](https://nestml.readthedocs.io/en/latest/running.html)."
   ]
  },
  {
   "cell_type": "code",
   "execution_count": 1,
   "metadata": {},
   "outputs": [
    {
     "name": "stdout",
     "output_type": "stream",
     "text": [
      "\n",
      "              -- N E S T --\n",
      "  Copyright (C) 2004 The NEST Initiative\n",
      "\n",
      " Version: master@c73351d27\n",
      " Built: Feb 22 2023 17:35:39\n",
      "\n",
      " This program is provided AS IS and comes with\n",
      " NO WARRANTY. See the file LICENSE for details.\n",
      "\n",
      " Problems or suggestions?\n",
      "   Visit https://www.nest-simulator.org\n",
      "\n",
      " Type 'nest.help()' to find out more about NEST.\n",
      "\n"
     ]
    }
   ],
   "source": [
    "%matplotlib inline\n",
    "import matplotlib.pyplot as plt\n",
    "import nest\n",
    "import numpy as np\n",
    "import os\n",
    "\n",
    "from pynestml.frontend.pynestml_frontend import generate_nest_target\n",
    "\n",
    "NEST_SIMULATOR_INSTALL_LOCATION = nest.ll_api.sli_func(\"statusdict/prefix ::\")\n"
   ]
  },
  {
   "cell_type": "markdown",
   "metadata": {},
   "source": [
    "### Paths\n",
    "\n",
    "We assume here that we will generate code in a temporary directory `/tmp/nestml-component`. You can also create a unique temporary path using the [Python tempfile module](https://docs.python.org/3/library/tempfile.html).\n",
    "\n",
    "\n",
    "The Izhikevich model\n",
    "--------------------\n",
    "\n",
    "A simple model for spiking neurons that nevertheless can exhibit a wide variety of dynamical behaviour, depending on its parameter values [1]. It is defined as follows:\n",
    "\n",
    "\\begin{align}\n",
    "\\frac{dv}{dt} &= 0.04 v^2 + 5 v + 140 - u + I\\\\\n",
    "\\frac{du}{dt} &= a (b v - u)\n",
    "\\end{align}\n",
    "\n",
    "State update:\n",
    "\n",
    "\\begin{align}\n",
    "   &\\text{if}\\;\\; v \\geq V_{th}:\\\\\n",
    "   &\\;\\;\\;\\; v \\text{ is set to } c\\\\\n",
    "   &\\;\\;\\;\\; u \\text{ is incremented by } d\\\\\n",
    "   & \\, \\\\\n",
    "   &v \\text{ jumps on each spike arrival by the weight of the spike}\n",
    "\\end{align}\n",
    "\n",
    "Example parameters for regular spiking (the meaning of these parameters is described in detail in the paper [1]; see also Task 2 below): \n",
    "\n",
    "\\begin{align}\n",
    "a&=0.02\\\\\n",
    "b&=0.2\\\\\n",
    "c&=-65~\\text{mV}\\\\\n",
    "d&=8\n",
    "\\end{align}\n",
    "\n",
    "\n",
    "Task 1: Finish the model\n",
    "------------------------\n",
    "\n",
    "In the file [`izhikevich_task.nestml`](https://raw.githubusercontent.com/nest/nestml/master/doc/tutorials/izhikevich/izhikevich_task.nestml), only a subset of the parameters, state equations and update block is implemented.\n",
    "\n",
    "Open the file in a text editor and finish the partially-completed model.\n",
    "\n",
    "For reference, the solution is included as [`izhikevich_solution.nestml`](https://raw.githubusercontent.com/nest/nestml/master/doc/tutorials/izhikevich/izhikevich_solution.nestml)."
   ]
  },
  {
   "cell_type": "markdown",
   "metadata": {},
   "source": [
    "### NESTML code generation\n",
    "\n",
    "Assume that our NESTML input model is at `izhikevich_solution.nestml`. To generate code and build a dynamic library that can be loaded as a user module in NEST Simulator:"
   ]
  },
  {
   "cell_type": "code",
   "execution_count": 2,
   "metadata": {},
   "outputs": [
    {
     "name": "stdout",
     "output_type": "stream",
     "text": [
      "Warning: PyGSL is not available. The stiffness test will be skipped.\n",
      "Warning: No module named 'pygsl'\n",
      "\n",
      "\n",
      "\n",
      "              -- N E S T --\n",
      "  Copyright (C) 2004 The NEST Initiative\n",
      "\n",
      " Version: master@c73351d27\n",
      " Built: Feb 22 2023 17:35:39\n",
      "\n",
      " This program is provided AS IS and comes with\n",
      " NO WARRANTY. See the file LICENSE for details.\n",
      "\n",
      " Problems or suggestions?\n",
      "   Visit https://www.nest-simulator.org\n",
      "\n",
      " Type 'nest.help()' to find out more about NEST.\n",
      "\n",
      "CMake Warning:\n",
      "  Ignoring empty string (\"\") provided on the command line.\n",
      "\n",
      "\n",
      "-- The CXX compiler identification is AppleClang 14.0.0.14000029\n",
      "-- Detecting CXX compiler ABI info\n",
      "-- Detecting CXX compiler ABI info - done\n",
      "-- Check for working CXX compiler: /Applications/Xcode.app/Contents/Developer/Toolchains/XcodeDefault.xctoolchain/usr/bin/c++ - skipped\n",
      "-- Detecting CXX compile features\n",
      "-- Detecting CXX compile features - done\n",
      "\n",
      "-------------------------------------------------------\n",
      "nestmlmodule Configuration Summary\n",
      "-------------------------------------------------------\n",
      "\n",
      "C++ compiler         : /Applications/Xcode.app/Contents/Developer/Toolchains/XcodeDefault.xctoolchain/usr/bin/c++\n",
      "Build static libs    : OFF\n",
      "C++ compiler flags   : \n",
      "NEST compiler flags  :  -std=c++11 -Wall -Xclang -fopenmp -O2\n",
      "NEST include dirs    :  -I/Users/pooja/nest/include/nest -I/usr/local/include -I/Applications/Xcode.app/Contents/Developer/Platforms/MacOSX.platform/Developer/SDKs/MacOSX13.1.sdk/usr/include -I/usr/local/Cellar/gsl/2.7/include -I/Users/pooja/miniconda3/envs/nestml_3.10/include\n",
      "NEST libraries flags : -L/Users/pooja/nest/lib/nest -lnestutil -lsli -lnestkernel -Xclang -fopenmp /usr/local/lib/libltdl.dylib /Users/pooja/miniconda3/envs/nestml_3.10/lib/libreadline.dylib /Users/pooja/miniconda3/envs/nestml_3.10/lib/libncurses.dylib /usr/local/Cellar/gsl/2.7/lib/libgsl.dylib /usr/local/Cellar/gsl/2.7/lib/libgslcblas.dylib\n",
      "\n",
      "-------------------------------------------------------\n",
      "\n",
      "You can now build and install 'nestmlmodule' using\n",
      "  make\n",
      "  make install\n",
      "\n",
      "The library file libnestmlmodule.so will be installed to\n",
      "  /Users/pooja/nest/lib/nest\n",
      "The module can be loaded into NEST using\n",
      "  (nestmlmodule) Install       (in SLI)\n",
      "  nest.Install(nestmlmodule)   (in PyNEST)\n",
      "\n",
      "CMake Warning (dev) in CMakeLists.txt:\n",
      "  No cmake_minimum_required command is present.  A line of code such as\n",
      "\n",
      "    cmake_minimum_required(VERSION 3.23)\n",
      "\n",
      "  should be added at the top of the file.  The version specified may be lower\n",
      "  if you wish to support older CMake versions for this project.  For more\n",
      "  information run \"cmake --help-policy CMP0000\".\n",
      "This warning is for project developers.  Use -Wno-dev to suppress it.\n",
      "\n",
      "-- Configuring done\n",
      "-- Generating done\n",
      "-- Build files have been written to: /tmp/nestml-component\n",
      "[ 66%] Building CXX object CMakeFiles/nestmlmodule_module.dir/izhikevich_tutorial.o\n",
      "[ 66%] Building CXX object CMakeFiles/nestmlmodule_module.dir/nestmlmodule.o\n",
      "/tmp/nestml-component/izhikevich_tutorial.cpp:106:16: warning: unused variable '__resolution' [-Wunused-variable]\n",
      "  const double __resolution = nest::Time::get_resolution().get_ms();  // do not remove, this is necessary for the resolution() function\n",
      "               ^\n",
      "/tmp/nestml-component/izhikevich_tutorial.cpp:270:16: warning: unused variable '__resolution' [-Wunused-variable]\n",
      "  const double __resolution = nest::Time::get_resolution().get_ms();  // do not remove, this is necessary for the resolution() function\n",
      "               ^\n",
      "2 warnings generated.\n",
      "[100%] Linking CXX shared module nestmlmodule.so\n",
      "[100%] Built target nestmlmodule_module\n",
      "Consolidate compiler generated dependencies of target nestmlmodule_module\n",
      "[100%] Built target nestmlmodule_module\n",
      "Install the project...\n",
      "-- Install configuration: \"\"\n",
      "-- Installing: /Users/pooja/nest/lib/nest/nestmlmodule.so\n"
     ]
    }
   ],
   "source": [
    "generate_nest_target(input_path=\"izhikevich_solution.nestml\",\n",
    "                     target_path=\"/tmp/nestml-component\",\n",
    "                     logging_level=\"ERROR\",\n",
    "                     codegen_opts={\"nest_path\": NEST_SIMULATOR_INSTALL_LOCATION})\n"
   ]
  },
  {
   "cell_type": "markdown",
   "metadata": {},
   "source": [
    "Check the generated log output for any potential error messages or warnings.\n",
    "\n",
    "The generated module is called ``nestmlmodule`` by default. It can be loaded using ``nest.Install()``:"
   ]
  },
  {
   "cell_type": "code",
   "execution_count": 3,
   "metadata": {},
   "outputs": [
    {
     "name": "stdout",
     "output_type": "stream",
     "text": [
      "\n",
      "Mar 07 18:25:59 Install [Info]: \n",
      "    loaded module nestmlmodule\n"
     ]
    }
   ],
   "source": [
    "nest.Install(\"nestmlmodule\")"
   ]
  },
  {
   "cell_type": "markdown",
   "metadata": {},
   "source": [
    "### Instantiate model in NEST Simulator and run\n",
    "\n",
    "Using the PyNEST API, the model can be instantiated and simulated in NEST. The following code will create one instance of the neuron model (`nest.Create(\"izhikevich_tutorial\")`), inject a constant current and run the simulation for 250 ms."
   ]
  },
  {
   "cell_type": "code",
   "execution_count": 5,
   "metadata": {},
   "outputs": [
    {
     "data": {
      "text/plain": [
       "Text(0.5, 0, 'Time [ms]')"
      ]
     },
     "execution_count": 5,
     "metadata": {},
     "output_type": "execute_result"
    },
    {
     "data": {
      "image/png": "[encoded data removed]",
      "text/plain": [
       "<Figure size 432x288 with 2 Axes>"
      ]
     },
     "metadata": {
      "needs_background": "light"
     },
     "output_type": "display_data"
    }
   ],
   "source": [
    "nest.set_verbosity(\"M_WARNING\")\n",
    "nest.ResetKernel()\n",
    "\n",
    "neuron = nest.Create(\"izhikevich_tutorial\")\n",
    "voltmeter = nest.Create(\"voltmeter\")\n",
    "\n",
    "voltmeter.set({\"record_from\": [\"v\", \"u\"]})\n",
    "nest.Connect(voltmeter, neuron)\n",
    "\n",
    "cgs = nest.Create('dc_generator')\n",
    "cgs.set({\"amplitude\": 25.})\n",
    "nest.Connect(cgs, neuron)\n",
    "\n",
    "sr = nest.Create(\"spike_recorder\")\n",
    "nest.Connect(neuron, sr)\n",
    "\n",
    "nest.Simulate(250.)\n",
    "\n",
    "spike_times = nest.GetStatus(sr, keys='events')[0]['times']\n",
    "\n",
    "fig, ax = plt.subplots(nrows=2)\n",
    "ax[0].plot(voltmeter.get(\"events\")[\"times\"], voltmeter.get(\"events\")[\"v\"])\n",
    "ax[1].plot(voltmeter.get(\"events\")[\"times\"], voltmeter.get(\"events\")[\"u\"])\n",
    "ax[0].scatter(spike_times, 30 * np.ones_like(spike_times), marker=\"d\", c=\"orange\", alpha=.8, zorder=99)\n",
    "for _ax in ax:\n",
    "    _ax.grid(True)\n",
    "ax[0].set_ylabel(\"v [mV]\")\n",
    "ax[1].set_ylabel(\"u\")\n",
    "ax[-1].set_xlabel(\"Time [ms]\")\n",
    "fig.show()"
   ]
  },
  {
   "cell_type": "markdown",
   "metadata": {},
   "source": [
    "Task 2: Parameter space exploration\n",
    "-----------------------------------\n",
    "\n",
    "Perform a parameter space exploration to reproduce the bottom eight panels from [1], figure 2."
   ]
  },
  {
   "cell_type": "markdown",
   "metadata": {},
   "source": [
    "## References\n",
    "\n",
    "[1] Eugene M. Izhikevich, \"Simple Model of Spiking Neurons\", IEEE Transactions on Neural Networks, Vol. 14, No. 6, November 2003\n",
    "\n",
    "## Copyright\n",
    "\n",
    "This file is part of NEST.\n",
    "\n",
    "Copyright (C) 2004 The NEST Initiative\n",
    "\n",
    "NEST is free software: you can redistribute it and/or modify it under the terms of the GNU General Public License as published by the Free Software Foundation, either version 2 of the License, or (at your option) any later version.\n",
    "\n",
    "NEST is distributed in the hope that it will be useful, but WITHOUT ANY WARRANTY; without even the implied warranty of MERCHANTABILITY or FITNESS FOR A PARTICULAR PURPOSE.  See the GNU General Public License for more details.\n",
    "\n",
    "You should have received a copy of the GNU General Public License along with NEST.  If not, see <http://www.gnu.org/licenses/>.\n"
   ]
  }
 ],
 "metadata": {
  "kernelspec": {
   "display_name": "Python 3 (ipykernel)",
   "language": "python",
   "name": "python3"
  },
  "language_info": {
   "codemirror_mode": {
    "name": "ipython",
    "version": 3
   },
   "file_extension": ".py",
   "mimetype": "text/x-python",
   "name": "python",
   "nbconvert_exporter": "python",
   "pygments_lexer": "ipython3",
   "version": "3.9.13"
  }
 },
 "nbformat": 4,
 "nbformat_minor": 4
}
